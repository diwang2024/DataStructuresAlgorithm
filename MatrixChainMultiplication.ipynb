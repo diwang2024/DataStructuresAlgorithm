{
  "cells": [
    {
      "cell_type": "markdown",
      "id": "30fa363c",
      "metadata": {
        "id": "30fa363c"
      },
      "source": [
        "# Matrix Chain Multiplication\n",
        "\n",
        "_To learn how to use this template, check out the course [\"Data Structures and Algorithms in Python\"](https://jovian.ai/learn/data-structures-and-algorithms-in-python)._\n",
        "\n",
        "\n"
      ]
    },
    {
      "cell_type": "markdown",
      "id": "1db10dc7",
      "metadata": {
        "id": "1db10dc7"
      },
      "source": [
        "## How to run the code and save your work\n",
        "\n",
        "The recommended way to run this notebook is to click the \"Run\" button at the top of this page, and select \"Run on Binder\". This will run the notebook on [mybinder.org](https://mybinder.org), a free online service for running Jupyter notebooks.\n",
        "\n",
        "This tutorial is an executable [Jupyter notebook](https://jupyter.org). You can _run_ this tutorial and experiment with the code examples in a couple of ways: *using free online resources* (recommended) or *on your computer*.\n",
        "\n",
        "#### Option 1: Running using free online resources (1-click, recommended)\n",
        "\n",
        "The easiest way to start executing the code is to click the **Run** button at the top of this page and select **Run on Binder**. You can also select \"Run on Colab\" or \"Run on Kaggle\", but you'll need to create an account on [Google Colab](https://colab.research.google.com) or [Kaggle](https://kaggle.com) to use these platforms.\n",
        "\n",
        "\n",
        "#### Option 2: Running on your computer locally\n",
        "\n",
        "To run the code on your computer locally, you'll need to set up [Python](https://www.python.org), download the notebook and install the required libraries. We recommend using the [Conda](https://docs.conda.io/projects/conda/en/latest/user-guide/install/) distribution of Python. Click the **Run** button at the top of this page, select the **Run Locally** option, and follow the instructions.\n",
        "\n",
        "#### Saving your work\n",
        "\n",
        "Before staring the assignment, let's save a snapshot of the assignment to your [Jovian](https://jovian.ai) profile, so that you can access it later, and continue your work."
      ]
    },
    {
      "cell_type": "code",
      "execution_count": null,
      "id": "5f331124",
      "metadata": {
        "id": "5f331124"
      },
      "outputs": [],
      "source": [
        "project_name = \"dsa_matrix_multi\" # give it an appropriate name"
      ]
    },
    {
      "cell_type": "code",
      "execution_count": null,
      "id": "1aec0534",
      "metadata": {
        "colab": {
          "base_uri": "https://localhost:8080/"
        },
        "id": "1aec0534",
        "outputId": "54758e21-d93d-4c40-f8d0-602c6d0dc24c"
      },
      "outputs": [
        {
          "name": "stdout",
          "output_type": "stream",
          "text": [
            "\u001b[?25l     \u001b[90m━━━━━━━━━━━━━━━━━━━━━━━━━━━━━━━━━━━━━━━━\u001b[0m \u001b[32m0.0/68.6 kB\u001b[0m \u001b[31m?\u001b[0m eta \u001b[36m-:--:--\u001b[0m\r",
            "\u001b[2K     \u001b[90m━━━━━━━━━━━━━━━━━━━━━━━━━━━━━━━━━━━━━━━━\u001b[0m \u001b[32m68.6/68.6 kB\u001b[0m \u001b[31m1.9 MB/s\u001b[0m eta \u001b[36m0:00:00\u001b[0m\n",
            "\u001b[?25h  Preparing metadata (setup.py) ... \u001b[?25l\u001b[?25hdone\n",
            "  Building wheel for uuid (setup.py) ... \u001b[?25l\u001b[?25hdone\n"
          ]
        }
      ],
      "source": [
        "!pip install jovian --upgrade --quiet"
      ]
    },
    {
      "cell_type": "code",
      "execution_count": null,
      "id": "b5377ea5",
      "metadata": {
        "id": "b5377ea5"
      },
      "outputs": [],
      "source": [
        "import jovian"
      ]
    },
    {
      "cell_type": "markdown",
      "id": "b5f7812a",
      "metadata": {
        "id": "b5f7812a"
      },
      "source": [
        "## Problem Statement\n",
        "\n",
        "\n",
        ">  Determine the optimal parenthesization of a product of `n` matrices. The multiplication is associative. For example, for four matrices A, B, C, and D, we would have: `((AB)C)D = ((A(BC))D) = (AB)(CD) = A((BC)D) = A(B(CD))`. However, the order in which the product is parenthesized affects the number of simple arithmetic operations needed to compute the product. or example, if A is a 10 × 30 matrix, B is a 30 × 5 matrix, and C is a 5 × 60 matrix, then computing (AB)C needs (10×30×5) + (10×5×60) = 1500 + 3000 = 4500 operations while computing A(BC) needs (30×5×60) + (10×30×60) = 9000 + 18000 = 27000 operations. Clearly, the first method is more efficient.\n",
        "\n",
        "\n",
        "Source: https://www.techiedelight.com/matrix-chain-multiplication/"
      ]
    },
    {
      "cell_type": "markdown",
      "id": "5c313ca5",
      "metadata": {
        "id": "5c313ca5"
      },
      "source": [
        "## The Method\n",
        "\n",
        "Here's the systematic strategy we'll apply for solving problems:\n",
        "\n",
        "1. State the problem clearly. Identify the input & output formats.\n",
        "2. Come up with some example inputs & outputs. Try to cover all edge cases.\n",
        "3. Come up with a correct solution for the problem. State it in plain English.\n",
        "4. Implement the solution and test it using example inputs. Fix bugs, if any.\n",
        "5. Analyze the algorithm's complexity and identify inefficiencies, if any.\n",
        "6. Apply the right technique to overcome the inefficiency. Repeat steps 3 to 6.\n",
        "\n",
        "This approach is explained in detail in [Lesson 1](https://jovian.ai/learn/data-structures-and-algorithms-in-python/lesson/lesson-1-binary-search-linked-lists-and-complexity) of the course. Let's apply this approach step-by-step."
      ]
    },
    {
      "cell_type": "markdown",
      "id": "7a77666e",
      "metadata": {
        "id": "7a77666e"
      },
      "source": [
        "## Solution\n",
        "\n",
        "\n",
        "### 1. State the problem clearly. Identify the input & output formats.\n",
        "\n",
        "While this problem is stated clearly enough, it's always useful to try and express in your own words, in a way that makes it most clear for you.\n",
        "\n",
        "\n",
        "**Problem**\n",
        "\n",
        "> Given a list of dimensions of matrices, find the minimum times of multiplication needed to compute the multiplication of these matrices.\n",
        "\n",
        "<br/>\n",
        "\n",
        "\n",
        "**Input**\n",
        "\n",
        "1. dims: a list of numbers of dimensions of matrices.\n",
        "2. i (optional): the start of a list of matrices, used in divide-and-conquer\n",
        "3. j (optional): the end of a list of matrices, used in divide-and-conquer\n",
        "4. lookup (optional): a list of lists storing the result of each subproblem\n",
        "\n",
        "<br/>\n",
        "\n",
        "**Output**\n",
        "1. min: the minimum number of times of multiplication needed\n",
        "\n",
        "Based on the above, we can now create a signature of our function:"
      ]
    },
    {
      "cell_type": "code",
      "execution_count": null,
      "id": "7b589161",
      "metadata": {
        "id": "7b589161"
      },
      "outputs": [],
      "source": [
        "# Create a function signature here. The body of the function can contain a single statement: pass\n",
        "def matrixChainMultiplication(dims, i, j):\n",
        "    pass"
      ]
    },
    {
      "cell_type": "markdown",
      "id": "2510915c",
      "metadata": {
        "id": "2510915c"
      },
      "source": [
        "Save and upload your work before continuing."
      ]
    },
    {
      "cell_type": "code",
      "execution_count": null,
      "id": "0d2628f9",
      "metadata": {
        "id": "0d2628f9"
      },
      "outputs": [],
      "source": [
        "import jovian"
      ]
    },
    {
      "cell_type": "code",
      "execution_count": null,
      "id": "4c114ae0",
      "metadata": {
        "colab": {
          "base_uri": "https://localhost:8080/"
        },
        "id": "4c114ae0",
        "outputId": "26e4dad2-ae3b-4067-c668-4cb1be46bc33"
      },
      "outputs": [
        {
          "name": "stdout",
          "output_type": "stream",
          "text": [
            "[jovian] Detected Colab notebook...\u001b[0m\n",
            "[jovian] jovian.commit() is no longer required on Google Colab. If you ran this notebook from Jovian, \n",
            "then just save this file in Colab using Ctrl+S/Cmd+S and it will be updated on Jovian. \n",
            "Also, you can also delete this cell, it's no longer necessary.\u001b[0m\n"
          ]
        }
      ],
      "source": [
        "jovian.commit()"
      ]
    },
    {
      "cell_type": "markdown",
      "id": "f277c3d7",
      "metadata": {
        "id": "f277c3d7"
      },
      "source": [
        "### 2. Come up with some example inputs & outputs. Try to cover all edge cases.\n",
        "\n",
        "Our function should be able to handle any set of valid inputs we pass into it. Here's a list of some possible variations we might encounter:\n",
        "\n",
        "1. [10, 30, 5, 60]\n",
        "2. [3, 7]\n",
        "3. [3]\n",
        "\n",
        "\n",
        "\n",
        "We'll express our test cases as dictionaries, to test them easily. Each dictionary will contain 2 keys: `input` (a dictionary itself containing one key for each argument to the function and `output` (the expected result from the function)."
      ]
    },
    {
      "cell_type": "code",
      "execution_count": null,
      "id": "1279c29a",
      "metadata": {
        "id": "1279c29a"
      },
      "outputs": [],
      "source": [
        "test = {\n",
        "    'input': {\n",
        "        'dims': [10, 30, 5, 60], 'i': 0, 'j': 3\n",
        "    },\n",
        "    'output': 4500\n",
        "}"
      ]
    },
    {
      "cell_type": "markdown",
      "id": "85ff8ff5",
      "metadata": {
        "id": "85ff8ff5"
      },
      "source": [
        "Create one test case for each of the scenarios listed above. We'll store our test cases in an array called `tests`."
      ]
    },
    {
      "cell_type": "code",
      "execution_count": null,
      "id": "0fc0f0d7",
      "metadata": {
        "id": "0fc0f0d7"
      },
      "outputs": [],
      "source": [
        "tests = []"
      ]
    },
    {
      "cell_type": "code",
      "execution_count": null,
      "id": "8ffc784d",
      "metadata": {
        "id": "8ffc784d"
      },
      "outputs": [],
      "source": [
        "tests.append(test)"
      ]
    },
    {
      "cell_type": "code",
      "execution_count": null,
      "id": "af8ca24c",
      "metadata": {
        "id": "af8ca24c"
      },
      "outputs": [],
      "source": [
        "tests.append({\n",
        "    'input': {\n",
        "        'dims': [3,7], 'i': 0, 'j': 1\n",
        "    },\n",
        "    'output': 0\n",
        "})"
      ]
    },
    {
      "cell_type": "code",
      "execution_count": null,
      "id": "qomj88CeVC0h",
      "metadata": {
        "id": "qomj88CeVC0h"
      },
      "outputs": [],
      "source": [
        "tests.append({\n",
        "    'input': {\n",
        "       'dims':  [3],  'i': 0, 'j': 0\n",
        "    },\n",
        "    'output': 0\n",
        "})"
      ]
    },
    {
      "cell_type": "markdown",
      "id": "1370b894",
      "metadata": {
        "id": "1370b894"
      },
      "source": [
        "### 3. Come up with a correct solution for the problem. State it in plain English.\n",
        "\n",
        "Our first goal should always be to come up with a _correct_ solution to the problem, which may not necessarily be the most _efficient_ solution. Come with a correct solution and explain it in simple words below:\n",
        "\n",
        "Take the sequence of matrices and separate it into two subsequences.\n",
        "Find the minimum cost of multiplying out each subsequence.\n",
        "Add these costs together, and add in the price of multiplying the two result matrices.\n",
        "Do this for each possible position at which the sequence of matrices can be split, and take the minimum over all of them.\n",
        "\n",
        "1. Take the sequence of matrices and separate it into two subsequences.\n",
        "2. Find the minimum cost of multiplying each subsequence.\n",
        "3. Add these costs together, and add in the cost of multiplying the two result matrices. Note that the cost of multiplying two matrices of dimension i by k and k by j is i * k * j.\n",
        "4. Using a for loop, do this for each possible position at which the sequence of matrices can be split, and take the minimum over all of them.\n",
        "5. If the input has only 1 or 2 elements, return 0.\n",
        "\n",
        "Let's save and upload our work before continuing.\n",
        "\n",
        "\n"
      ]
    },
    {
      "cell_type": "code",
      "execution_count": null,
      "id": "e2e36771",
      "metadata": {
        "colab": {
          "base_uri": "https://localhost:8080/"
        },
        "id": "e2e36771",
        "outputId": "9508c927-eb47-4023-e3fb-ffbae542db19"
      },
      "outputs": [
        {
          "name": "stdout",
          "output_type": "stream",
          "text": [
            "[jovian] Detected Colab notebook...\u001b[0m\n",
            "[jovian] jovian.commit() is no longer required on Google Colab. If you ran this notebook from Jovian, \n",
            "then just save this file in Colab using Ctrl+S/Cmd+S and it will be updated on Jovian. \n",
            "Also, you can also delete this cell, it's no longer necessary.\u001b[0m\n"
          ]
        }
      ],
      "source": [
        "jovian.commit()"
      ]
    },
    {
      "cell_type": "markdown",
      "id": "d04cf578",
      "metadata": {
        "id": "d04cf578"
      },
      "source": [
        "###  4. Implement the solution and test it using example inputs. Fix bugs, if any."
      ]
    },
    {
      "cell_type": "code",
      "execution_count": null,
      "id": "084e7df4",
      "metadata": {
        "id": "084e7df4"
      },
      "outputs": [],
      "source": [
        "import sys\n",
        "def matrixChainMultiplication(dims, i, j):\n",
        "    if j <= i+1:\n",
        "        return 0\n",
        "    min = sys.maxsize\n",
        "    for k in range(i+1, j):\n",
        "        cost = matrixChainMultiplication(dims, i, k)\n",
        "        cost += matrixChainMultiplication(dims, k, j)\n",
        "        cost += dims[i] * dims[k] * dims[j]\n",
        "        if cost < min:\n",
        "            min = cost\n",
        "    return min"
      ]
    },
    {
      "cell_type": "markdown",
      "id": "22fdebaf",
      "metadata": {
        "id": "22fdebaf"
      },
      "source": [
        "We can test the function by passing the input to it directly or by using the `evaluate_test_case` function from `jovian`."
      ]
    },
    {
      "cell_type": "code",
      "execution_count": null,
      "id": "faeb4c46",
      "metadata": {
        "id": "faeb4c46"
      },
      "outputs": [],
      "source": [
        "from jovian.pythondsa import evaluate_test_case"
      ]
    },
    {
      "cell_type": "code",
      "execution_count": null,
      "id": "73516a82",
      "metadata": {
        "colab": {
          "base_uri": "https://localhost:8080/",
          "height": 443
        },
        "id": "73516a82",
        "outputId": "882b5d96-5516-419e-9550-1ab36a84bf78"
      },
      "outputs": [
        {
          "name": "stdout",
          "output_type": "stream",
          "text": [
            "\n",
            "Input:\n",
            "{'dims': [10, 30, 5, 60], 'i': 0, 'j': 3}\n",
            "\n",
            "Expected Output:\n",
            "4500\n",
            "\n",
            "\n",
            "Actual Output:\n",
            "4500\n",
            "\n",
            "Execution Time:\n",
            "0.018 ms\n",
            "\n",
            "Test Result:\n",
            "\u001b[92mPASSED\u001b[0m\n",
            "\n"
          ]
        },
        {
          "data": {
            "text/plain": [
              "(4500, True, 0.018)"
            ]
          },
          "execution_count": 22,
          "metadata": {},
          "output_type": "execute_result"
        }
      ],
      "source": [
        "evaluate_test_case(matrixChainMultiplication, test)"
      ]
    },
    {
      "cell_type": "markdown",
      "id": "5db785fa",
      "metadata": {
        "id": "5db785fa"
      },
      "source": [
        "Evaluate your function against all the test cases together using the `evaluate_test_cases` (plural) function from `jovian`."
      ]
    },
    {
      "cell_type": "code",
      "execution_count": null,
      "id": "d2354197",
      "metadata": {
        "id": "d2354197"
      },
      "outputs": [],
      "source": [
        "from jovian.pythondsa import evaluate_test_cases"
      ]
    },
    {
      "cell_type": "code",
      "execution_count": null,
      "id": "758142b8",
      "metadata": {
        "colab": {
          "base_uri": "https://localhost:8080/",
          "height": 356
        },
        "id": "758142b8",
        "outputId": "5b38eab9-4f7e-45b2-f120-af64d3cce2eb"
      },
      "outputs": [
        {
          "name": "stdout",
          "output_type": "stream",
          "text": [
            "\n",
            "\u001b[1mTEST CASE #0\u001b[0m\n",
            "\n",
            "Input:\n",
            "{'dims': [10, 30, 5, 60], 'i': 0, 'j': 3}\n",
            "\n",
            "Expected Output:\n",
            "4500\n",
            "\n",
            "\n",
            "Actual Output:\n",
            "4500\n",
            "\n",
            "Execution Time:\n",
            "0.01 ms\n",
            "\n",
            "Test Result:\n",
            "\u001b[92mPASSED\u001b[0m\n",
            "\n",
            "\n",
            "\u001b[1mTEST CASE #1\u001b[0m\n",
            "\n",
            "Input:\n",
            "{'dims': [3, 7], 'i': 0, 'j': 1}\n",
            "\n",
            "Expected Output:\n",
            "0\n",
            "\n",
            "\n",
            "Actual Output:\n",
            "0\n",
            "\n",
            "Execution Time:\n",
            "0.002 ms\n",
            "\n",
            "Test Result:\n",
            "\u001b[92mPASSED\u001b[0m\n",
            "\n",
            "\n",
            "\u001b[1mTEST CASE #2\u001b[0m\n",
            "\n",
            "Input:\n",
            "{'dims': [3], 'i': 0, 'j': 0}\n",
            "\n",
            "Expected Output:\n",
            "0\n",
            "\n",
            "\n",
            "Actual Output:\n",
            "0\n",
            "\n",
            "Execution Time:\n",
            "0.002 ms\n",
            "\n",
            "Test Result:\n",
            "\u001b[92mPASSED\u001b[0m\n",
            "\n",
            "\n",
            "\u001b[1mSUMMARY\u001b[0m\n",
            "\n",
            "TOTAL: 3, \u001b[92mPASSED\u001b[0m: 3, \u001b[91mFAILED\u001b[0m: 0\n"
          ]
        },
        {
          "data": {
            "text/plain": [
              "[(4500, True, 0.01), (0, True, 0.002), (0, True, 0.002)]"
            ]
          },
          "execution_count": 24,
          "metadata": {},
          "output_type": "execute_result"
        }
      ],
      "source": [
        "evaluate_test_cases(matrixChainMultiplication, tests)"
      ]
    },
    {
      "cell_type": "markdown",
      "id": "854dd1e0",
      "metadata": {
        "id": "854dd1e0"
      },
      "source": [
        "Verify that all the test cases were evaluated. We expect them all to fail, since we haven't implemented the function yet.\n",
        "\n",
        "Let's save our work before continuing."
      ]
    },
    {
      "cell_type": "code",
      "execution_count": null,
      "id": "5b1f1328",
      "metadata": {
        "id": "5b1f1328"
      },
      "outputs": [],
      "source": [
        "jovian.commit()"
      ]
    },
    {
      "cell_type": "markdown",
      "id": "f6a4627e",
      "metadata": {
        "id": "f6a4627e"
      },
      "source": [
        "### 5. Analyze the algorithm's complexity and identify inefficiencies, if any."
      ]
    },
    {
      "cell_type": "markdown",
      "id": "3c84138f",
      "metadata": {
        "id": "3c84138f"
      },
      "source": [
        "The time complexity is O($2^n$), where $n$ is the number of matrices. In the recursion procedure, there are many repeated steps. For example, in determining the optimal sequence of multiplying ABCD, we need to separate it into AB and CD, in which we determine the optimal sequence of multiplying AB. We need to do this again when separate it into ABC and D. Memoization can reduce the complexity to O($n^3$).\n",
        "\n",
        "The space complexity of O($n^2$)."
      ]
    },
    {
      "cell_type": "code",
      "execution_count": null,
      "id": "d40aff2f",
      "metadata": {
        "id": "d40aff2f",
        "outputId": "0cabe9e9-8e73-45f0-9092-ef11c7841b9d"
      },
      "outputs": [
        {
          "data": {
            "application/javascript": [
              "window.require && require([\"base/js/namespace\"],function(Jupyter){Jupyter.notebook.save_checkpoint()})"
            ],
            "text/plain": [
              "<IPython.core.display.Javascript object>"
            ]
          },
          "metadata": {},
          "output_type": "display_data"
        },
        {
          "name": "stdout",
          "output_type": "stream",
          "text": [
            "[jovian] Attempting to save notebook..\u001b[0m\n",
            "[jovian] Updating notebook \"aakashns/python-problem-solving-template\" on https://jovian.ai/\u001b[0m\n",
            "[jovian] Uploading notebook..\u001b[0m\n",
            "[jovian] Capturing environment..\u001b[0m\n",
            "[jovian] Committed successfully! https://jovian.ai/aakashns/python-problem-solving-template\u001b[0m\n"
          ]
        },
        {
          "data": {
            "text/plain": [
              "'https://jovian.ai/aakashns/python-problem-solving-template'"
            ]
          },
          "execution_count": 21,
          "metadata": {},
          "output_type": "execute_result"
        }
      ],
      "source": [
        "jovian.commit()"
      ]
    },
    {
      "cell_type": "markdown",
      "id": "30639ef0",
      "metadata": {
        "id": "30639ef0"
      },
      "source": [
        "### 6. Apply the right technique to overcome the inefficiency. Repeat steps 3 to 6."
      ]
    },
    {
      "cell_type": "markdown",
      "id": "9f2d19ef",
      "metadata": {
        "id": "9f2d19ef"
      },
      "source": [
        "The main idea is to add a table `lookup` of dimensions `len(dims)` by `len(dims)` to store the results of all possible combination, so we don't have to compute the same combination for multiple times. The time complexity is reduced to O($n^3$)."
      ]
    },
    {
      "cell_type": "code",
      "execution_count": null,
      "id": "a4d7459c",
      "metadata": {
        "id": "a4d7459c"
      },
      "outputs": [],
      "source": [
        "def matrixChainMultiplicationMemo(dims, i, j, lookup):\n",
        "    if j <= i + 1:\n",
        "        return 0\n",
        "    min = sys.maxsize\n",
        "    if lookup[i][j] == 0:\n",
        "        for k in range(i + 1, j):\n",
        "            cost = matrixChainMultiplication(dims, i, k, lookup)\n",
        "            cost += matrixChainMultiplication(dims, k, j, lookup)\n",
        "            cost += dims[i] * dims[k] * dims[j]\n",
        "\n",
        "            if cost < min:\n",
        "                min = cost\n",
        "\n",
        "        lookup[i][j] = min\n",
        "    return lookup[i][j]"
      ]
    },
    {
      "cell_type": "code",
      "execution_count": null,
      "id": "19e7dc93",
      "metadata": {
        "id": "19e7dc93"
      },
      "outputs": [],
      "source": [
        "test2 = {\n",
        "    'input': {\n",
        "        'dims': [10, 30, 5, 60], 'i': 0, 'j': 3, 'lookup': [[0 for x in range(4)] for y in range(4)]\n",
        "    },\n",
        "    'output': 4500\n",
        "}\n",
        "\n",
        "tests_memo = []\n",
        "tests_memo.append({\n",
        "    'input': {\n",
        "        'dims': [3,7], 'i': 0, 'j': 1, 'lookup': [0]\n",
        "    },\n",
        "    'output': 0\n",
        "})\n",
        "\n",
        "tests_memo.append({\n",
        "    'input': {\n",
        "        'dims': [3], 'i': 0, 'j': 1, 'lookup': [0]\n",
        "    },\n",
        "    'output': 0\n",
        "})"
      ]
    },
    {
      "cell_type": "code",
      "execution_count": null,
      "id": "05139cdd",
      "metadata": {
        "id": "05139cdd",
        "outputId": "d6d4ad75-8678-437a-8882-14db2609fc49"
      },
      "outputs": [
        {
          "name": "stdout",
          "output_type": "stream",
          "text": [
            "\n",
            "\u001b[1mTEST CASE #0\u001b[0m\n",
            "\n",
            "Input:\n",
            "{'dims': [3, 7], 'i': 0, 'j': 1, 'lookup': [0]}\n",
            "\n",
            "Expected Output:\n",
            "0\n",
            "\n",
            "\n",
            "Actual Output:\n",
            "0\n",
            "\n",
            "Execution Time:\n",
            "0.006 ms\n",
            "\n",
            "Test Result:\n",
            "\u001b[92mPASSED\u001b[0m\n",
            "\n",
            "\n",
            "\u001b[1mTEST CASE #1\u001b[0m\n",
            "\n",
            "Input:\n",
            "{'dims': [3], 'i': 0, 'j': 1, 'lookup': [0]}\n",
            "\n",
            "Expected Output:\n",
            "0\n",
            "\n",
            "\n",
            "Actual Output:\n",
            "0\n",
            "\n",
            "Execution Time:\n",
            "0.004 ms\n",
            "\n",
            "Test Result:\n",
            "\u001b[92mPASSED\u001b[0m\n",
            "\n",
            "\n",
            "\u001b[1mSUMMARY\u001b[0m\n",
            "\n",
            "TOTAL: 2, \u001b[92mPASSED\u001b[0m: 2, \u001b[91mFAILED\u001b[0m: 0\n"
          ]
        },
        {
          "data": {
            "text/plain": [
              "[(0, True, 0.006), (0, True, 0.004)]"
            ]
          },
          "execution_count": 30,
          "metadata": {},
          "output_type": "execute_result"
        }
      ],
      "source": [
        "evaluate_test_cases(matrixChainMultiplicationMemo, tests_memo)"
      ]
    },
    {
      "cell_type": "code",
      "execution_count": null,
      "id": "59b44bf7",
      "metadata": {
        "id": "59b44bf7",
        "outputId": "8b8e26c0-a2ce-486b-cfa1-bf935a3c7314"
      },
      "outputs": [
        {
          "data": {
            "application/javascript": [
              "window.require && require([\"base/js/namespace\"],function(Jupyter){Jupyter.notebook.save_checkpoint()})"
            ],
            "text/plain": [
              "<IPython.core.display.Javascript object>"
            ]
          },
          "metadata": {},
          "output_type": "display_data"
        },
        {
          "name": "stdout",
          "output_type": "stream",
          "text": [
            "[jovian] Attempting to save notebook..\u001b[0m\n",
            "[jovian] Updating notebook \"aakashns/python-problem-solving-template\" on https://jovian.ai/\u001b[0m\n",
            "[jovian] Uploading notebook..\u001b[0m\n",
            "[jovian] Capturing environment..\u001b[0m\n",
            "[jovian] Committed successfully! https://jovian.ai/aakashns/python-problem-solving-template\u001b[0m\n"
          ]
        },
        {
          "data": {
            "text/plain": [
              "'https://jovian.ai/aakashns/python-problem-solving-template'"
            ]
          },
          "execution_count": 20,
          "metadata": {},
          "output_type": "execute_result"
        }
      ],
      "source": [
        "jovian.commit()"
      ]
    },
    {
      "cell_type": "markdown",
      "id": "a5465e1b",
      "metadata": {
        "id": "a5465e1b"
      },
      "source": [
        "### 7. Come up with a correct solution for the problem. State it in plain English.\n",
        "\n",
        "Come with the optimized correct solution and explain it in simple words below:\n",
        "\n",
        "1. Create a table `c` of size `(len(dims)+1) * (len(dims))` initialized with 0s, the first row of which is left blank.\n",
        "2. Given a sequence with starting and ending positions `i-1` to `j`. Start with `k = i-1`. Divide the sequence to two subsequences, the starting and ending positions of which are `i-1` and `k`, and `k` and `j`.\n",
        "3. Retrive the minimum cost of multiplying for the two subsequences from `c[i][k]` and `c[k+1][j]`. The cost of multiplying them together is the addition of the `c[i][k]`, `c[k+1][j]`, and `dims[i-1] * dims[k] * dims[j]`. Update this value at `c[i][j]`, and increase `k` by 1.\n",
        "4. Continue while `k < j` and `j < len(dims)` to fill the matrix `c`.\n",
        "5. The final result is stored in the second row and the last column `c[1][len(dims)-1]`.\n",
        "\n",
        "Let's save and upload our work before continuing.\n"
      ]
    },
    {
      "cell_type": "code",
      "execution_count": null,
      "id": "6319d729",
      "metadata": {
        "id": "6319d729",
        "outputId": "b116d8b1-450b-475f-bfdf-93acec3976da"
      },
      "outputs": [
        {
          "data": {
            "application/javascript": [
              "window.require && require([\"base/js/namespace\"],function(Jupyter){Jupyter.notebook.save_checkpoint()})"
            ],
            "text/plain": [
              "<IPython.core.display.Javascript object>"
            ]
          },
          "metadata": {},
          "output_type": "display_data"
        },
        {
          "name": "stdout",
          "output_type": "stream",
          "text": [
            "[jovian] Attempting to save notebook..\u001b[0m\n",
            "[jovian] Updating notebook \"aakashns/python-problem-solving-template\" on https://jovian.ai/\u001b[0m\n",
            "[jovian] Uploading notebook..\u001b[0m\n",
            "[jovian] Capturing environment..\u001b[0m\n",
            "[jovian] Committed successfully! https://jovian.ai/aakashns/python-problem-solving-template\u001b[0m\n"
          ]
        },
        {
          "data": {
            "text/plain": [
              "'https://jovian.ai/aakashns/python-problem-solving-template'"
            ]
          },
          "execution_count": 19,
          "metadata": {},
          "output_type": "execute_result"
        }
      ],
      "source": [
        "jovian.commit()"
      ]
    },
    {
      "cell_type": "markdown",
      "id": "3c6e9818",
      "metadata": {
        "id": "3c6e9818"
      },
      "source": [
        "### 8. Implement the solution and test it using example inputs. Fix bugs, if any."
      ]
    },
    {
      "cell_type": "code",
      "execution_count": null,
      "id": "1d8a33b1",
      "metadata": {
        "id": "1d8a33b1"
      },
      "outputs": [],
      "source": [
        "def matrixChainMultiplicationDP(dims):\n",
        "\n",
        "    n = len(dims)\n",
        "    c = [[0 for x in range(n)] for y in range(n+1)]\n",
        "\n",
        "    for length in range(2, n + 1):\n",
        "\n",
        "        for i in range(1, n - length + 2):\n",
        "\n",
        "            j = i + length - 1\n",
        "          #  c[i][j] = sys.maxsize\n",
        "\n",
        "            k = i\n",
        "            while j < n and k <= j - 1:\n",
        "                cost = c[i][k] + c[k + 1][j] + dims[i - 1] * dims[k] * dims[j]\n",
        "\n",
        "               # if cost < c[i][j]:\n",
        "                c[i][j] = cost\n",
        "\n",
        "                k = k + 1\n",
        "    return c[1][n-1]\n",
        ""
      ]
    },
    {
      "cell_type": "code",
      "execution_count": null,
      "id": "dc366c66",
      "metadata": {
        "id": "dc366c66"
      },
      "outputs": [],
      "source": [
        "test3 = {\n",
        "    'input': {\n",
        "        'dims': [10, 30, 5, 60]\n",
        "    },\n",
        "    'output': 4500\n",
        "}\n",
        "\n",
        "tests_dp = []\n",
        "tests_dp.append({\n",
        "    'input': {\n",
        "        'dims': [3,7]\n",
        "    },\n",
        "    'output': 0\n",
        "})\n",
        "\n",
        "tests_dp.append({\n",
        "    'input': {\n",
        "        'dims': [3]\n",
        "    },\n",
        "    'output': 0\n",
        "})"
      ]
    },
    {
      "cell_type": "code",
      "execution_count": null,
      "id": "97269140",
      "metadata": {
        "id": "97269140",
        "outputId": "b3aed6c9-bf17-4705-f14a-25c614b09c9d"
      },
      "outputs": [
        {
          "name": "stdout",
          "output_type": "stream",
          "text": [
            "\n",
            "\u001b[1mTEST CASE #0\u001b[0m\n",
            "\n",
            "Input:\n",
            "{'dims': [3, 7]}\n",
            "\n",
            "Expected Output:\n",
            "0\n",
            "\n",
            "\n",
            "Actual Output:\n",
            "0\n",
            "\n",
            "Execution Time:\n",
            "0.021 ms\n",
            "\n",
            "Test Result:\n",
            "\u001b[92mPASSED\u001b[0m\n",
            "\n",
            "\n",
            "\u001b[1mTEST CASE #1\u001b[0m\n",
            "\n",
            "Input:\n",
            "{'dims': [3]}\n",
            "\n",
            "Expected Output:\n",
            "0\n",
            "\n",
            "\n",
            "Actual Output:\n",
            "0\n",
            "\n",
            "Execution Time:\n",
            "0.011 ms\n",
            "\n",
            "Test Result:\n",
            "\u001b[92mPASSED\u001b[0m\n",
            "\n",
            "\n",
            "\u001b[1mSUMMARY\u001b[0m\n",
            "\n",
            "TOTAL: 2, \u001b[92mPASSED\u001b[0m: 2, \u001b[91mFAILED\u001b[0m: 0\n"
          ]
        },
        {
          "data": {
            "text/plain": [
              "[(0, True, 0.021), (0, True, 0.011)]"
            ]
          },
          "execution_count": 51,
          "metadata": {},
          "output_type": "execute_result"
        }
      ],
      "source": [
        "evaluate_test_cases(matrixChainMultiplicationDP, tests_dp)"
      ]
    },
    {
      "cell_type": "markdown",
      "id": "0df52755",
      "metadata": {
        "id": "0df52755"
      },
      "source": [
        "### 9. Analyze the algorithm's complexity and identify inefficiencies, if any."
      ]
    },
    {
      "cell_type": "markdown",
      "id": "2cc618ec",
      "metadata": {
        "id": "2cc618ec"
      },
      "source": [
        "The time complexity is the same as above (O($n^3$)), but requires no recursion.\n",
        "The space complexity is O($n^2$), because we need table of such space to store the results."
      ]
    },
    {
      "cell_type": "code",
      "execution_count": null,
      "id": "082bfd8d",
      "metadata": {
        "id": "082bfd8d",
        "outputId": "ea91c24f-662b-4068-c4a7-36b384271d71"
      },
      "outputs": [
        {
          "data": {
            "application/javascript": [
              "window.require && require([\"base/js/namespace\"],function(Jupyter){Jupyter.notebook.save_checkpoint()})"
            ],
            "text/plain": [
              "<IPython.core.display.Javascript object>"
            ]
          },
          "metadata": {},
          "output_type": "display_data"
        }
      ],
      "source": [
        "jovian.commit()"
      ]
    },
    {
      "cell_type": "markdown",
      "id": "b209bb60",
      "metadata": {
        "id": "b209bb60"
      },
      "source": [
        "If you found the problem on an external platform, you can make a submission to test your solution.\n",
        "\n",
        "Share your approach and start a discussion on the Jovian forum: https://jovian.ai/forum/c/data-structures-and-algorithms-in-python/78"
      ]
    }
  ],
  "metadata": {
    "colab": {
      "provenance": []
    },
    "kernelspec": {
      "display_name": "Python 3 (ipykernel)",
      "language": "python",
      "name": "python3"
    },
    "language_info": {
      "codemirror_mode": {
        "name": "ipython",
        "version": 3
      },
      "file_extension": ".py",
      "mimetype": "text/x-python",
      "name": "python",
      "nbconvert_exporter": "python",
      "pygments_lexer": "ipython3",
      "version": "3.11.4"
    }
  },
  "nbformat": 4,
  "nbformat_minor": 5
}